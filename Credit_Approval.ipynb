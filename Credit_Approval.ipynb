{
 "cells": [
  {
   "cell_type": "code",
   "execution_count": null,
   "metadata": {},
   "outputs": [],
   "source": [
    "import pandas as pd\n",
    "import matplotlib.pyplot as plt\n",
    "%matplotlib inline\n",
    "colNames = ['Gender','Age','Debt','Married','BankCustomer','EducationalLevel','A7','YearsEmployed','Prior','Employed','CreditScore','DriversLicense','Citizen','Zipcode','Income','Approval']\n",
    "df = pd.read_csv('TestData\\\\crx.data',names=colNames)"
   ]
  },
  {
   "cell_type": "code",
   "execution_count": null,
   "metadata": {},
   "outputs": [],
   "source": [
    "Approval = {'+':1,'-':0}\n",
    "df.Approval = [Approval[status] for status in df.Approval]\n",
    "df.Approval.plot('hist')"
   ]
  },
  {
   "cell_type": "code",
   "execution_count": null,
   "metadata": {},
   "outputs": [],
   "source": [
    "import numpy as np\n",
    "df['Age']=df['Age'].replace('?',np.nan)\n",
    "df['Gender']=df['Gender'].replace('?',np.nan)\n",
    "Gender = {'b':1,'a':0,np.nan:0}\n",
    "df.Gender = [Gender[status] for status in df.Gender]\n",
    "df.head()"
   ]
  },
  {
   "cell_type": "code",
   "execution_count": null,
   "metadata": {},
   "outputs": [],
   "source": [
    "print(df[df['Married']=='?'])\n",
    "df = df[df.Married != '?']\n",
    "print(df[df['EducationalLevel']=='?'])"
   ]
  },
  {
   "cell_type": "code",
   "execution_count": null,
   "metadata": {},
   "outputs": [],
   "source": [
    "df = df[df.EducationalLevel != '?']"
   ]
  },
  {
   "cell_type": "code",
   "execution_count": null,
   "metadata": {},
   "outputs": [],
   "source": [
    "df = pd.concat([df,pd.get_dummies(df['Married'], prefix='Married')],axis=1)"
   ]
  },
  {
   "cell_type": "code",
   "execution_count": null,
   "metadata": {},
   "outputs": [],
   "source": [
    "df.drop(['Married'],axis=1, inplace=True)"
   ]
  },
  {
   "cell_type": "code",
   "execution_count": null,
   "metadata": {},
   "outputs": [],
   "source": [
    "df.head()"
   ]
  },
  {
   "cell_type": "code",
   "execution_count": null,
   "metadata": {},
   "outputs": [],
   "source": [
    "df = pd.concat([df,pd.get_dummies(df['BankCustomer'], prefix='BankCustomer',drop_first=True)],axis=1)\n",
    "df.drop(['BankCustomer'],axis=1,inplace=True)\n",
    "df = pd.concat([df,pd.get_dummies(df['EducationalLevel'], prefix='EducationalLevel',drop_first=True)],axis=1)\n",
    "df.drop(['EducationalLevel'],axis=1,inplace=True)\n",
    "df = pd.concat([df,pd.get_dummies(df['A7'], prefix='A7',drop_first=True)],axis=1)\n",
    "df.drop(['A7'],axis=1,inplace=True)\n",
    "df = pd.concat([df,pd.get_dummies(df['Prior'], prefix='Prior',drop_first=True)],axis=1)\n",
    "df.drop(['Prior'],axis=1,inplace=True)\n",
    "df = pd.concat([df,pd.get_dummies(df['Employed'], prefix='Employed',drop_first=True)],axis=1)\n",
    "df.drop(['Employed'],axis=1,inplace=True)\n",
    "df = pd.concat([df,pd.get_dummies(df['DriversLicense'], prefix='DriversLicense',drop_first=True)],axis=1)\n",
    "df.drop(['DriversLicense'],axis=1,inplace=True)\n",
    "df = pd.concat([df,pd.get_dummies(df['Citizen'], prefix='Citizen',drop_first=True)],axis=1)\n",
    "df.drop(['Citizen'],axis=1,inplace=True)"
   ]
  },
  {
   "cell_type": "code",
   "execution_count": null,
   "metadata": {},
   "outputs": [],
   "source": [
    "df['Zipcode']=df['Zipcode'].replace('?',np.nan)\n",
    "df.isnull().sum()"
   ]
  },
  {
   "cell_type": "code",
   "execution_count": null,
   "metadata": {},
   "outputs": [],
   "source": [
    "df['Zipcode']=df['Zipcode'].fillna(df['Zipcode'].value_counts().index[0])\n",
    "df['Age'] = pd.to_numeric(df['Age'], errors='coerce')\n",
    "df['Age'] =  df['Age'].fillna(df['Age'].mean())\n",
    "df.describe()"
   ]
  },
  {
   "cell_type": "code",
   "execution_count": null,
   "metadata": {},
   "outputs": [],
   "source": [
    "df.isnull().sum()"
   ]
  },
  {
   "cell_type": "code",
   "execution_count": null,
   "metadata": {},
   "outputs": [],
   "source": [
    "labels = df['Approval'] \n",
    "df.drop(['Approval'],axis=1,inplace = True)\n",
    "labels.columns = ['Approval']"
   ]
  },
  {
   "cell_type": "code",
   "execution_count": null,
   "metadata": {},
   "outputs": [],
   "source": [
    "from sklearn import preprocessing\n",
    "x = df.values #returns a numpy array\n",
    "min_max_scaler = preprocessing.MinMaxScaler()\n",
    "x_scaled = min_max_scaler.fit_transform(x)\n",
    "features_norm = pd.DataFrame(x_scaled)\n",
    "features_norm.columns = list(df.columns.values)\n",
    "features_norm.describe()"
   ]
  },
  {
   "cell_type": "code",
   "execution_count": null,
   "metadata": {},
   "outputs": [],
   "source": [
    "from sklearn.model_selection import train_test_split\n",
    "X_train, X_test, y_train, y_test = train_test_split(features_norm,labels,test_size=0.2,random_state=42)"
   ]
  },
  {
   "cell_type": "code",
   "execution_count": null,
   "metadata": {},
   "outputs": [],
   "source": [
    "from sklearn.linear_model import LogisticRegression\n",
    "logisticRegr = LogisticRegression()\n",
    "logisticRegr.fit(X_train, y_train)"
   ]
  },
  {
   "cell_type": "code",
   "execution_count": null,
   "metadata": {},
   "outputs": [],
   "source": [
    "y_pred=logisticRegr.predict(X_test)\n",
    "score = logisticRegr.score(X_test, y_test)\n",
    "print(score)"
   ]
  },
  {
   "cell_type": "code",
   "execution_count": null,
   "metadata": {},
   "outputs": [],
   "source": [
    "from sklearn.metrics import confusion_matrix\n",
    "confusion_matrix(y_pred,y_test)"
   ]
  },
  {
   "cell_type": "code",
   "execution_count": null,
   "metadata": {},
   "outputs": [],
   "source": []
  }
 ],
 "metadata": {
  "kernelspec": {
   "display_name": "Python 3",
   "language": "python",
   "name": "python3"
  },
  "language_info": {
   "codemirror_mode": {
    "name": "ipython",
    "version": 3
   },
   "file_extension": ".py",
   "mimetype": "text/x-python",
   "name": "python",
   "nbconvert_exporter": "python",
   "pygments_lexer": "ipython3",
   "version": "3.6.4"
  }
 },
 "nbformat": 4,
 "nbformat_minor": 2
}
